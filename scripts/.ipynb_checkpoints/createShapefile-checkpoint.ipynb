{
 "cells": [
  {
   "cell_type": "code",
   "execution_count": null,
   "metadata": {
    "collapsed": true
   },
   "outputs": [],
   "source": [
    "import shapefile"
   ]
  },
  {
   "cell_type": "markdown",
   "metadata": {},
   "source": [
    "## Create Spatial Features"
   ]
  },
  {
   "cell_type": "code",
   "execution_count": null,
   "metadata": {
    "collapsed": true
   },
   "outputs": [],
   "source": [
    "# set-up shapefile\n",
    "writer = shapefile.Writer(shapefile.POINT)\n",
    "writer.autoBalance = 1  # ensure geometries are matched with records \n",
    "\n",
    "# writer.field(name, type, length, decimal length)\n",
    "# Field types: Character: 'C', Numbers: 'N', Longs: 'L', Dates: 'D'\n",
    "    \n",
    "writer.field('business_id', 'C')\n",
    "writer.field('name', 'C')\n",
    "writer.field('full_address', 'C')\n",
    "writer.field('rating', 'N', 15, 4)  \n",
    "writer.field('price_range', 'N') \n",
    "writer.field('alcohol', 'N')\n",
    "writer.field('attire', 'C') \n",
    "writer.field('takeout', 'C') \n",
    "writer.field('waiter_service', 'C')\n",
    "writer.field('outdoor_seating', 'C') \n",
    "\n",
    "# fill geometries and attributes\n",
    "for row in selectedData.itertuples():\n",
    "    writer.point(row.longitude, row.latitude)\n",
    "    writer.record(\n",
    "        business_id=row.Index,\n",
    "        name=row.name,\n",
    "        full_address=row.full_address,\n",
    "        rating=row.rating,\n",
    "        price_range=row.price_range,\n",
    "        alcohol=row.alcohol,\n",
    "        attire=row.attire,\n",
    "        takeout=row.takeout,\n",
    "        waiter_service=row.waiter_service,\n",
    "        outdoor_seating=row.outdoor_seating\n",
    "    )\n",
    "    \n",
    "writer.save(dataDirectory + \"restaurants_clean\")"
   ]
  }
 ],
 "metadata": {
  "kernelspec": {
   "display_name": "Python 3",
   "language": "python",
   "name": "python3"
  },
  "language_info": {
   "codemirror_mode": {
    "name": "ipython",
    "version": 3
   },
   "file_extension": ".py",
   "mimetype": "text/x-python",
   "name": "python",
   "nbconvert_exporter": "python",
   "pygments_lexer": "ipython3",
   "version": "3.5.1"
  }
 },
 "nbformat": 4,
 "nbformat_minor": 0
}
