{
 "cells": [
  {
   "cell_type": "code",
   "execution_count": 46,
   "metadata": {
    "collapsed": false,
    "scrolled": true
   },
   "outputs": [],
   "source": [
    "%matplotlib inline\n",
    "from geopandas import GeoDataFrame, GeoSeries, read_file, overlay\n",
    "from geopandas.tools import sjoin\n",
    "from shapely.geometry import Point\n",
    "from pandas import to_numeric\n",
    "from time import time\n",
    "\n",
    "import jupynbimp\n",
    "import restaurants_data_cleaning, census2010_data_cleaning, acs2013_data_cleaning"
   ]
  },
  {
   "cell_type": "code",
   "execution_count": 3,
   "metadata": {
    "collapsed": false
   },
   "outputs": [],
   "source": [
    "# Projected CRS: WGS 84/UTM Zone 12N\n",
    "CRS = {'GCS':'+init=epsg:4326', 'projected':'+init=epsg:32612'}\n",
    "USE_CACHE=True\n",
    "SQ_METERS_PER_SQ_KM=1000000"
   ]
  },
  {
   "cell_type": "code",
   "execution_count": 4,
   "metadata": {
    "collapsed": false
   },
   "outputs": [],
   "source": [
    "def processingTime(start, finish):\n",
    "    print('processing time: ' + str(round(finish - start, 2)) + 's')\n",
    "\n",
    "def normalizeByArea(geoDataFrame, column):\n",
    "    return geoDataFrame.apply(\n",
    "        lambda row: row[column]/row.area_sqkm, axis=1\n",
    "    ) "
   ]
  },
  {
   "cell_type": "markdown",
   "metadata": {},
   "source": [
    "## Transform data into consolidated shapefile"
   ]
  },
  {
   "cell_type": "markdown",
   "metadata": {},
   "source": [
    "### Yelp Restaurants"
   ]
  },
  {
   "cell_type": "code",
   "execution_count": 5,
   "metadata": {
    "collapsed": false
   },
   "outputs": [],
   "source": [
    "restaurants = restaurants_data_cleaning.getData(fromCache=USE_CACHE)\n",
    "restaurants = GeoDataFrame(\n",
    "    restaurants,\n",
    "    geometry=[Point(x,y) \n",
    "              for x, y in zip(restaurants.longitude,\n",
    "                              restaurants.latitude)\n",
    "             ],\n",
    "    crs=CRS['GCS']\n",
    ")\n",
    "restaurants.to_crs(CRS['projected'], inplace=True)\n",
    "restaurants.drop(['latitude', 'longitude'], axis=1, inplace=True)"
   ]
  },
  {
   "cell_type": "markdown",
   "metadata": {},
   "source": [
    "### Add Proximity Variables "
   ]
  },
  {
   "cell_type": "code",
   "execution_count": 67,
   "metadata": {
    "collapsed": false
   },
   "outputs": [],
   "source": [
    "# Phoenix Convention Center in projected coordinates\n",
    "phoenixCBD = GeoSeries(Point(400557, 3701492), crs=CRS['projected'])"
   ]
  },
  {
   "cell_type": "code",
   "execution_count": 72,
   "metadata": {
    "collapsed": false
   },
   "outputs": [
    {
     "name": "stdout",
     "output_type": "stream",
     "text": [
      "processing time: 0.98s\n"
     ]
    }
   ],
   "source": [
    "start = time()\n",
    "restaurants['dist_CBD'] = restaurants.geometry.apply(\n",
    "    lambda point: phoenixCBD.distance(point)\n",
    ")\n",
    "processingTime(start, time())"
   ]
  },
  {
   "cell_type": "code",
   "execution_count": 21,
   "metadata": {
    "collapsed": true
   },
   "outputs": [],
   "source": [
    "# Retrieved 17/07/2016 from http://download.geofabrik.de/north-america/us/arizona.html\n",
    "roads = read_file('/arizona-latest/roads.shp', \n",
    "                  vfs='zip://../data/shapefiles/arizona-latest.zip'\n",
    "                 ).to_crs(CRS['projected'])"
   ]
  },
  {
   "cell_type": "code",
   "execution_count": 19,
   "metadata": {
    "collapsed": false
   },
   "outputs": [],
   "source": [
    "motorwayExits = (roads[roads['type'] == 'motorway_link'])"
   ]
  },
  {
   "cell_type": "code",
   "execution_count": 20,
   "metadata": {
    "collapsed": false
   },
   "outputs": [
    {
     "name": "stdout",
     "output_type": "stream",
     "text": [
      "processing time: 386.01s\n"
     ]
    }
   ],
   "source": [
    "start = time()\n",
    "restaurants['dist_mwy_exit'] = restaurants.geometry.apply(\n",
    "    lambda point: motorwayExits.distance(point).min()\n",
    ")\n",
    "processingTime(start, time())"
   ]
  },
  {
   "cell_type": "markdown",
   "metadata": {},
   "source": [
    "### Census 2010"
   ]
  },
  {
   "cell_type": "code",
   "execution_count": 35,
   "metadata": {
    "collapsed": false
   },
   "outputs": [],
   "source": [
    "census2010 = census2010_data_cleaning.getData(fromCache=USE_CACHE)\n",
    "\n",
    "# Retrieved 10-07-2016 from https://www.census.gov/cgi-bin/geo/shapefiles/index.php?year=2010&layergroup=Block+Groups\n",
    "blockGroups2010 = read_file('/tl_2010_04_bg10.shp', \n",
    "                            vfs='zip://../data/shapefiles/tl_2010_04_bg10.zip')\n",
    "blockGroups2010.GEOID10 = to_numeric(blockGroups2010.GEOID10)\n",
    "blockGroups2010 = (blockGroups2010[['GEOID10','geometry']]\n",
    "                   .rename(columns={'GEOID10':'GEOID'})\n",
    "                   .to_crs(CRS['projected'])\n",
    "                  )\n",
    "blockGroups2010['area_sqkm'] = blockGroups2010.geometry.area/SQ_METERS_PER_SQ_KM \n",
    "blockGroups2010 = blockGroups2010.merge(census2010, on='GEOID')\n",
    "   \n",
    "# Normalize count data by block group area\n",
    "blockGroups2010['population_density'] = normalizeByArea(blockGroups2010,'population_total')\n",
    "blockGroups2010['home_mortgage_density'] = normalizeByArea(blockGroups2010,'home_mortgages')\n",
    "blockGroups2010['home_owner_density'] = normalizeByArea(blockGroups2010,'home_owners')\n",
    "blockGroups2010['renter_density'] = normalizeByArea(blockGroups2010,'renters')\n",
    "blockGroups2010['household_density'] = normalizeByArea(blockGroups2010,'total_households')\n",
    "blockGroups2010['family_household_density'] = normalizeByArea(blockGroups2010,'family_households')\n",
    "blockGroups2010['single_household_density'] = normalizeByArea(blockGroups2010,'single_households')\n",
    "blockGroups2010['hispanic_latino_population_density'] = normalizeByArea(blockGroups2010,'population_hispanic_latino')\n",
    "blockGroups2010['white_population_density'] = normalizeByArea(blockGroups2010,'population_white')\n",
    "blockGroups2010['black_population_density'] = normalizeByArea(blockGroups2010,'population_black')\n",
    "blockGroups2010['native_american_population_density'] = normalizeByArea(blockGroups2010,'population_native_american')\n",
    "blockGroups2010['asian_population_density'] = normalizeByArea(blockGroups2010,'population_asian')\n",
    "\n",
    "blockGroups2010.drop(['population_total',\n",
    "                      'home_mortgages',\n",
    "                      'home_owners',\n",
    "                      'renters',\n",
    "                      'total_households',\n",
    "                      'family_households',\n",
    "                      'single_households','population_hispanic_latino',\n",
    "                      'population_white',\n",
    "                      'population_black',\n",
    "                      'population_native_american',\n",
    "                      'population_asian'\n",
    "                     ], \n",
    "                     axis=1, inplace=True\n",
    "                    )"
   ]
  },
  {
   "cell_type": "markdown",
   "metadata": {},
   "source": [
    "### ACS 2013"
   ]
  },
  {
   "cell_type": "code",
   "execution_count": 36,
   "metadata": {
    "collapsed": false
   },
   "outputs": [],
   "source": [
    "acs2013 = acs2013_data_cleaning.getData(fromCache=USE_CACHE) \n",
    "\n",
    "# Retrieved 10-07-2016 https://www.census.gov/cgi-bin/geo/shapefiles/index.php?year=2013&layergroup=Block+Groups\n",
    "blockGroups2013 = read_file('/tl_2013_04_bg.shp', \n",
    "                            vfs='zip://../data/shapefiles/tl_2013_04_bg.zip')\n",
    "blockGroups2013.GEOID = to_numeric(blockGroups2010.GEOID)\n",
    "blockGroups2013 = (blockGroups2013[['GEOID','geometry']]\n",
    "                   .to_crs(CRS['projected'])\n",
    "                  )\n",
    "\n",
    "blockGroups2013['area_sqkm'] = blockGroups2013.geometry.area/SQ_METERS_PER_SQ_KM \n",
    "blockGroups2013 = blockGroups2013.merge(acs2013, on='GEOID')\n",
    "  \n",
    "# Normalize count data by block group area\n",
    "blockGroups2013['density_education_highschool'] = normalizeByArea(blockGroups2013,'education_highschool')\n",
    "blockGroups2013['density_education_undergraduate'] = normalizeByArea(blockGroups2013,'education_undergraduate')\n",
    "blockGroups2013['density_education_postgraduate'] = normalizeByArea(blockGroups2013,'education_postgraduate')\n",
    "\n",
    "blockGroups2013.drop(['education_highschool',\n",
    "                      'education_undergraduate',\n",
    "                      'education_postgraduate'\n",
    "                     ], \n",
    "                     axis=1, inplace=True\n",
    "                    )"
   ]
  },
  {
   "cell_type": "markdown",
   "metadata": {},
   "source": [
    "## Spatial Join Restaurant Locations on Census Block Groups"
   ]
  },
  {
   "cell_type": "code",
   "execution_count": 74,
   "metadata": {
    "collapsed": false
   },
   "outputs": [
    {
     "name": "stdout",
     "output_type": "stream",
     "text": [
      "processing time: 6.41s\n"
     ]
    }
   ],
   "source": [
    "start = time()\n",
    "restaurants_census2010 = (sjoin(restaurants[['business_id', 'geometry']], blockGroups2010, how='inner')\n",
    "                          .drop(['geometry', 'index_right', 'GEOID', 'area_sqkm'], axis=1)\n",
    "                         )\n",
    "restaurants_acs2013 = (sjoin(restaurants[['business_id', 'geometry']], blockGroups2013, how='inner')\n",
    "                       .drop(['geometry', 'index_right', 'GEOID', 'area_sqkm'], axis=1)\n",
    "                      )\n",
    "restaurants_demographics = GeoDataFrame(restaurants_census2010.merge(restaurants_acs2013, on='business_id')\n",
    "                                        .merge(restaurants, on='business_id'),\n",
    "                                        crs=CRS['projected']\n",
    "                                       )\n",
    "processingTime(start, time())"
   ]
  },
  {
   "cell_type": "markdown",
   "metadata": {},
   "source": [
    "## Save as shapefile"
   ]
  },
  {
   "cell_type": "code",
   "execution_count": 75,
   "metadata": {
    "collapsed": false
   },
   "outputs": [],
   "source": [
    "restaurants_demographics.to_file('../data/shapefiles/restaurants_cleaned/restaurants.shp')"
   ]
  }
 ],
 "metadata": {
  "kernelspec": {
   "display_name": "Python 3",
   "language": "python",
   "name": "python3"
  },
  "language_info": {
   "codemirror_mode": {
    "name": "ipython",
    "version": 3
   },
   "file_extension": ".py",
   "mimetype": "text/x-python",
   "name": "python",
   "nbconvert_exporter": "python",
   "pygments_lexer": "ipython3",
   "version": "3.5.2"
  }
 },
 "nbformat": 4,
 "nbformat_minor": 0
}
