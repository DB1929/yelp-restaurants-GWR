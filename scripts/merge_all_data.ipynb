{
 "cells": [
  {
   "cell_type": "code",
   "execution_count": 23,
   "metadata": {
    "collapsed": false
   },
   "outputs": [],
   "source": [
    "import geopandas\n",
    "from geopandas.tools import sjoin\n",
    "from shapely.geometry import Point\n",
    "from pandas import to_numeric\n",
    "\n",
    "import IPythonNotebookImporter\n",
    "import restaurants_data_cleaning, census2010_data_cleaning, acs2013_data_cleaning"
   ]
  },
  {
   "cell_type": "markdown",
   "metadata": {},
   "source": [
    "## Get inputs"
   ]
  },
  {
   "cell_type": "code",
   "execution_count": 2,
   "metadata": {
    "collapsed": false
   },
   "outputs": [],
   "source": [
    "restaurants = restaurants_data_cleaning.getData()\n",
    "census2010 = census2010_data_cleaning.getData()\n",
    "acs2013 = acs2013_data_cleaning.getData() "
   ]
  },
  {
   "cell_type": "markdown",
   "metadata": {},
   "source": [
    "### Census 2010"
   ]
  },
  {
   "cell_type": "code",
   "execution_count": 32,
   "metadata": {
    "collapsed": true
   },
   "outputs": [],
   "source": [
    "blockGroups2010 = geopandas.GeoDataFrame.from_file('../data/shapefiles/tl_2010_04013_bg10.shp', crs='None')\n",
    "blockGroups2010.GEOID10 = to_numeric(blockGroups2010.GEOID10)\n",
    "blockGroups2010 = blockGroups2010.merge(census2010, on='GEOID10')"
   ]
  },
  {
   "cell_type": "markdown",
   "metadata": {},
   "source": [
    "### ACS 2013"
   ]
  },
  {
   "cell_type": "code",
   "execution_count": 73,
   "metadata": {
    "collapsed": false,
    "scrolled": true
   },
   "outputs": [],
   "source": [
    "blockGroups2013 = geopandas.GeoDataFrame.from_file('../data/shapefiles/tl_2013_04_bg.shp')\n",
    "blockGroups2013.GEOID = to_numeric(blockGroups2013.GEOID)\n",
    "blockGroups2013 = blockGroups2013.merge(acs2013, on='GEOID')\n",
    "\n",
    "#pointInPolys = sjoin(point, poly, how='left')\n",
    "#pointSumByPoly = pointInPolys.groupby('PolyGroupByField')['fields', 'in', 'grouped', 'output'].agg(['sum'])"
   ]
  },
  {
   "cell_type": "markdown",
   "metadata": {},
   "source": [
    "## Spatial Join on Restaurant Points"
   ]
  },
  {
   "cell_type": "code",
   "execution_count": 77,
   "metadata": {
    "collapsed": false
   },
   "outputs": [],
   "source": [
    "restaurantPoints = geopandas.GeoDataFrame(restaurants, crs=blockGroups2010.crs, \n",
    "                                          geometry=[Point(xy) for xy in zip\n",
    "                                                    (restaurants.longitude, restaurants.latitude)\n",
    "                                                   ]\n",
    "                                         )\n",
    "\n",
    "restaurantJoin = sjoin(restaurantPoints, blockGroups2013, how='inner')"
   ]
  }
 ],
 "metadata": {
  "kernelspec": {
   "display_name": "Python 3",
   "language": "python",
   "name": "python3"
  },
  "language_info": {
   "codemirror_mode": {
    "name": "ipython",
    "version": 3
   },
   "file_extension": ".py",
   "mimetype": "text/x-python",
   "name": "python",
   "nbconvert_exporter": "python",
   "pygments_lexer": "ipython3",
   "version": "3.5.1"
  }
 },
 "nbformat": 4,
 "nbformat_minor": 0
}
