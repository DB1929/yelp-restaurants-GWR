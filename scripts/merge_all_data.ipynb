{
 "cells": [
  {
   "cell_type": "code",
   "execution_count": 6,
   "metadata": {
    "collapsed": false,
    "scrolled": true
   },
   "outputs": [],
   "source": [
    "%matplotlib inline\n",
    "from geopandas import GeoDataFrame, GeoSeries, read_file\n",
    "from geopandas.tools import sjoin\n",
    "from shapely.geometry import Point\n",
    "from pandas import to_numeric\n",
    "\n",
    "import jupynbimp\n",
    "import restaurants_data_cleaning, review_data_process, census2010_data_cleaning, acs2013_data_cleaning"
   ]
  },
  {
   "cell_type": "code",
   "execution_count": 7,
   "metadata": {
    "collapsed": false
   },
   "outputs": [],
   "source": [
    "# Projected CRS: WGS 84/UTM Zone 12N\n",
    "CRS = {'GCS':'+init=epsg:4326', 'projected':'+init=epsg:32612'}\n",
    "USE_CACHE=True\n",
    "SQ_METERS_PER_SQ_KM=1000000\n",
    "MARKET_AREA_RADIUS=3000"
   ]
  },
  {
   "cell_type": "code",
   "execution_count": 8,
   "metadata": {
    "collapsed": false
   },
   "outputs": [],
   "source": [
    "def normalizeByArea(geoDataFrame, column):\n",
    "    return geoDataFrame.apply(\n",
    "        lambda row: row[column]/row.area_sqkm, axis=1\n",
    "    ) "
   ]
  },
  {
   "cell_type": "markdown",
   "metadata": {},
   "source": [
    "## Transform data into consolidated shapefile"
   ]
  },
  {
   "cell_type": "markdown",
   "metadata": {},
   "source": [
    "### Yelp Restaurants"
   ]
  },
  {
   "cell_type": "code",
   "execution_count": 4,
   "metadata": {
    "collapsed": true
   },
   "outputs": [],
   "source": [
    "reviews = review_data_process.getData()"
   ]
  },
  {
   "cell_type": "code",
   "execution_count": 9,
   "metadata": {
    "collapsed": true
   },
   "outputs": [],
   "source": [
    "restaurants = (restaurants_data_cleaning.getData(fromCache=USE_CACHE)\n",
    "               .set_index('business_id')\n",
    "               .join(reviews, how='inner')\n",
    "               .reset_index()\n",
    "              )"
   ]
  },
  {
   "cell_type": "code",
   "execution_count": 11,
   "metadata": {
    "collapsed": false
   },
   "outputs": [],
   "source": [
    "restaurants = GeoDataFrame(\n",
    "    restaurants,\n",
    "    geometry=[Point(x,y) \n",
    "              for x, y in zip(restaurants.longitude,\n",
    "                              restaurants.latitude)\n",
    "             ],\n",
    "    crs=CRS['GCS']\n",
    ")\n",
    "restaurants.to_crs(CRS['projected'], inplace=True)\n",
    "restaurants.drop(['latitude', 'longitude'], axis=1, inplace=True)"
   ]
  },
  {
   "cell_type": "markdown",
   "metadata": {},
   "source": [
    "### Restaurant Proximity Variables "
   ]
  },
  {
   "cell_type": "code",
   "execution_count": 12,
   "metadata": {
    "collapsed": false
   },
   "outputs": [],
   "source": [
    "# Phoenix Convention Center in projected coordinates\n",
    "phoenixCBD = GeoSeries(Point(400557, 3701492), crs=CRS['projected'])\n",
    "\n",
    "restaurants['dist_CBD'] = restaurants.geometry.apply(\n",
    "    lambda point: phoenixCBD.distance(point)\n",
    ")"
   ]
  },
  {
   "cell_type": "code",
   "execution_count": 13,
   "metadata": {
    "collapsed": false
   },
   "outputs": [],
   "source": [
    "# Retrieved 17/07/2016 from http://download.geofabrik.de/north-america/us/arizona.html\n",
    "motorwayExits = read_file('/arizona-latest/roads.shp', \n",
    "                          vfs='zip://../data/shapefiles/arizona-latest.zip'\n",
    "                         ).to_crs(CRS['projected'])\n",
    "\n",
    "motorwayExits = (motorwayExits[motorwayExits['type'] == 'motorway_link'])\n",
    "\n",
    "restaurants['dist_mwy_exit'] = restaurants.geometry.apply(\n",
    "    lambda point: motorwayExits.distance(point).min()\n",
    ")"
   ]
  },
  {
   "cell_type": "code",
   "execution_count": 14,
   "metadata": {
    "collapsed": false
   },
   "outputs": [],
   "source": [
    "restaurants['competitors'] = restaurants.geometry.apply(\n",
    "    lambda point: sum(restaurants.intersects(point.buffer(MARKET_AREA_RADIUS)))-1\n",
    ")"
   ]
  },
  {
   "cell_type": "markdown",
   "metadata": {},
   "source": [
    "### Census 2010"
   ]
  },
  {
   "cell_type": "code",
   "execution_count": 15,
   "metadata": {
    "collapsed": false
   },
   "outputs": [],
   "source": [
    "census2010 = census2010_data_cleaning.getData(fromCache=USE_CACHE)\n",
    "\n",
    "# Retrieved 10-07-2016 from https://www.census.gov/cgi-bin/geo/shapefiles/index.php?year=2010&layergroup=Block+Groups\n",
    "blockGroups2010 = read_file('/tl_2010_04_bg10.shp', \n",
    "                            vfs='zip://../data/shapefiles/tl_2010_04_bg10.zip')\n",
    "blockGroups2010.GEOID10 = to_numeric(blockGroups2010.GEOID10)\n",
    "blockGroups2010 = (blockGroups2010[['GEOID10','geometry']]\n",
    "                   .rename(columns={'GEOID10':'GEOID'})\n",
    "                   .to_crs(CRS['projected'])\n",
    "                  )\n",
    "blockGroups2010['area_sqkm'] = blockGroups2010.geometry.area/SQ_METERS_PER_SQ_KM \n",
    "blockGroups2010 = blockGroups2010.merge(census2010, on='GEOID')\n",
    "   \n",
    "# Normalize count data by block group area\n",
    "blockGroups2010['population_density'] = normalizeByArea(blockGroups2010,'population_total')\n",
    "blockGroups2010['home_mortgage_density'] = normalizeByArea(blockGroups2010,'home_mortgages')\n",
    "blockGroups2010['home_owner_density'] = normalizeByArea(blockGroups2010,'home_owners')\n",
    "blockGroups2010['renter_density'] = normalizeByArea(blockGroups2010,'renters')\n",
    "blockGroups2010['household_density'] = normalizeByArea(blockGroups2010,'total_households')\n",
    "blockGroups2010['family_household_density'] = normalizeByArea(blockGroups2010,'family_households')\n",
    "blockGroups2010['single_household_density'] = normalizeByArea(blockGroups2010,'single_households')\n",
    "blockGroups2010['hispanic_latino_population_density'] = normalizeByArea(blockGroups2010,'population_hispanic_latino')\n",
    "blockGroups2010['white_population_density'] = normalizeByArea(blockGroups2010,'population_white')\n",
    "blockGroups2010['black_population_density'] = normalizeByArea(blockGroups2010,'population_black')\n",
    "blockGroups2010['native_american_population_density'] = normalizeByArea(blockGroups2010,'population_native_american')\n",
    "blockGroups2010['asian_population_density'] = normalizeByArea(blockGroups2010,'population_asian')\n",
    "\n",
    "blockGroups2010.drop(['population_total',\n",
    "                      'home_mortgages',\n",
    "                      'home_owners',\n",
    "                      'renters',\n",
    "                      'total_households',\n",
    "                      'family_households',\n",
    "                      'single_households','population_hispanic_latino',\n",
    "                      'population_white',\n",
    "                      'population_black',\n",
    "                      'population_native_american',\n",
    "                      'population_asian'\n",
    "                     ], \n",
    "                     axis=1, inplace=True\n",
    "                    )"
   ]
  },
  {
   "cell_type": "markdown",
   "metadata": {},
   "source": [
    "### ACS 2013"
   ]
  },
  {
   "cell_type": "code",
   "execution_count": 16,
   "metadata": {
    "collapsed": false
   },
   "outputs": [],
   "source": [
    "acs2013 = acs2013_data_cleaning.getData(fromCache=USE_CACHE) \n",
    "\n",
    "# Retrieved 10-07-2016 https://www.census.gov/cgi-bin/geo/shapefiles/index.php?year=2013&layergroup=Block+Groups\n",
    "blockGroups2013 = read_file('/tl_2013_04_bg.shp', \n",
    "                            vfs='zip://../data/shapefiles/tl_2013_04_bg.zip')\n",
    "blockGroups2013.GEOID = to_numeric(blockGroups2010.GEOID)\n",
    "blockGroups2013 = (blockGroups2013[['GEOID','geometry']]\n",
    "                   .to_crs(CRS['projected'])\n",
    "                  )\n",
    "\n",
    "blockGroups2013['area_sqkm'] = blockGroups2013.geometry.area/SQ_METERS_PER_SQ_KM \n",
    "blockGroups2013 = blockGroups2013.merge(acs2013, on='GEOID')\n",
    "  \n",
    "# Normalize count data by block group area\n",
    "blockGroups2013['density_education_highschool'] = normalizeByArea(blockGroups2013,'education_highschool')\n",
    "blockGroups2013['density_education_undergraduate'] = normalizeByArea(blockGroups2013,'education_undergraduate')\n",
    "blockGroups2013['density_education_postgraduate'] = normalizeByArea(blockGroups2013,'education_postgraduate')\n",
    "\n",
    "blockGroups2013.drop(['education_highschool',\n",
    "                      'education_undergraduate',\n",
    "                      'education_postgraduate'\n",
    "                     ], \n",
    "                     axis=1, inplace=True\n",
    "                    )"
   ]
  },
  {
   "cell_type": "markdown",
   "metadata": {},
   "source": [
    "## Spatial Join Restaurant Locations on Census Block Groups"
   ]
  },
  {
   "cell_type": "code",
   "execution_count": 17,
   "metadata": {
    "collapsed": false
   },
   "outputs": [],
   "source": [
    "restaurants_census2010 = (sjoin(restaurants[['business_id', 'geometry']], blockGroups2010, how='inner')\n",
    "                          .drop(['geometry', 'index_right', 'GEOID', 'area_sqkm'], axis=1)\n",
    "                         )\n",
    "restaurants_acs2013 = (sjoin(restaurants[['business_id', 'geometry']], blockGroups2013, how='inner')\n",
    "                       .drop(['geometry', 'index_right', 'GEOID', 'area_sqkm'], axis=1)\n",
    "                      )\n",
    "restaurants = GeoDataFrame(restaurants_census2010.merge(restaurants_acs2013, on='business_id')\n",
    "                           .merge(restaurants, on='business_id'), \n",
    "                           crs=CRS['projected']\n",
    "                          )"
   ]
  },
  {
   "cell_type": "markdown",
   "metadata": {},
   "source": [
    "## Save as shapefile"
   ]
  },
  {
   "cell_type": "code",
   "execution_count": 18,
   "metadata": {
    "collapsed": false
   },
   "outputs": [],
   "source": [
    "# shorten names for ESRI compatability\n",
    "restaurants.rename(columns={'business_id':'bus_id',\n",
    "                            'average_household_size':'avg_hshld',\n",
    "                            'population_density':'pop_skqm',\n",
    "                            'home_mortgage_density':'mortg_skqm',\n",
    "                            'home_owner_density':'hmown_sqkm',\n",
    "                            'renter_density':'rent_sqkm',\n",
    "                            'household_density':'hshld_sqkm',\n",
    "                            'family_household_density':'fmly_sqkm',\n",
    "                            'single_household_density':'sngl_sqkm',\n",
    "                            'hispanic_latino_population_density':'hisp_sqkm',\n",
    "                            'white_population_density':'white_sqkm',\n",
    "                            'black_population_density':'black_sqkm',\n",
    "                            'native_american_population_density':'natam_sqkm',\n",
    "                            'asian_population_density':'asian_sqkm',\n",
    "                            'median_home_value':'med_hm_val',\n",
    "                            'median_household_income':'med_income',\n",
    "                            'density_education_highschool':'ed_hs_sqkm',\n",
    "                            'density_education_undergraduate':'ed_ug_sqkm',\n",
    "                            'density_education_postgraduate':'ed_pg_sqkm',\n",
    "                            'full_address':'address',\n",
    "                            'price_range':'price_rng',\n",
    "                            'waiter_service':'waiter_svc',\n",
    "                            'outdoor_seating':'outdr_seat',\n",
    "                            'review_span':'revw_span',\n",
    "                            'dist_mwy_exit':'near_exit',\n",
    "                            'competitors':'num_cmptrs'\n",
    "                           }, inplace=True\n",
    "                  )\n",
    "\n",
    "restaurants.to_file('../data/shapefiles/restaurants/restaurants.shp')"
   ]
  }
 ],
 "metadata": {
  "kernelspec": {
   "display_name": "Python 3",
   "language": "python",
   "name": "python3"
  },
  "language_info": {
   "codemirror_mode": {
    "name": "ipython",
    "version": 3
   },
   "file_extension": ".py",
   "mimetype": "text/x-python",
   "name": "python",
   "nbconvert_exporter": "python",
   "pygments_lexer": "ipython3",
   "version": "3.5.2"
  }
 },
 "nbformat": 4,
 "nbformat_minor": 0
}
