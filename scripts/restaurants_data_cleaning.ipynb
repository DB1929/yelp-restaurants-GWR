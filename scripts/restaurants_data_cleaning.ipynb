{
 "cells": [
  {
   "cell_type": "code",
   "execution_count": 69,
   "metadata": {
    "collapsed": false
   },
   "outputs": [],
   "source": [
    "import json \n",
    "import pandas\n",
    "import os.path\n",
    "from numpy import nan\n",
    "from math import log\n",
    "from enum import Enum"
   ]
  },
  {
   "cell_type": "markdown",
   "metadata": {},
   "source": [
    "## weight star rating by review count"
   ]
  },
  {
   "cell_type": "code",
   "execution_count": 70,
   "metadata": {
    "collapsed": true
   },
   "outputs": [],
   "source": [
    "def __weightedStars(stars, count):\n",
    "        \n",
    "    try:\n",
    "        count = int(count)\n",
    "    except ValueError:\n",
    "        return nan\n",
    "    \n",
    "    if not(1 <= stars <= 5):\n",
    "        return nan\n",
    "    else:\n",
    "        normalStars = stars - 3 # 'neutral' rating of 3 normalized to 0\n",
    "        return normalStars * log(count)"
   ]
  },
  {
   "cell_type": "markdown",
   "metadata": {},
   "source": [
    "## levels of alcohol service"
   ]
  },
  {
   "cell_type": "code",
   "execution_count": 71,
   "metadata": {
    "collapsed": true
   },
   "outputs": [],
   "source": [
    "class __Alcohol(Enum):\n",
    "    none = 0\n",
    "    beer_and_wine = 1\n",
    "    full_bar = 2"
   ]
  },
  {
   "cell_type": "markdown",
   "metadata": {},
   "source": [
    "## return clean and organised data"
   ]
  },
  {
   "cell_type": "code",
   "execution_count": 72,
   "metadata": {
    "collapsed": false
   },
   "outputs": [],
   "source": [
    "def getData(fromCache=True):\n",
    "    # Retrieved 09-07-2016 from https://nz.yelp.com/dataset_challenge/dataset \n",
    "    dataDirectory = '../data/yelp/'\n",
    "    outputName = 'restaurants_clean.csv'\n",
    "    \n",
    "    if fromCache & os.path.isfile(dataDirectory + outputName):\n",
    "        return pandas.read_csv(dataDirectory + outputName, header=0)\n",
    "    \n",
    "    else:\n",
    "    \n",
    "        # read-in .json file as pandas dataframe\n",
    "        businesses = (pandas.DataFrame.from_dict([json.loads(data) for data in \n",
    "                      open(dataDirectory + 'yelp_academic_dataset_business.json', 'r')])\n",
    "                     )\n",
    "\n",
    "        # select study area data & filter restaurants\n",
    "        selectedData = (businesses[(businesses.state == 'AZ') & \n",
    "                                   businesses.categories.apply(lambda categories: \n",
    "                                                                   'Restaurants' in categories)\n",
    "                                  ]\n",
    "                        .drop(['neighborhoods', 'open', 'city', 'state', 'type'], axis = 1)\n",
    "                       )\n",
    "                                   \n",
    "        # recode nested variables\n",
    "        selectedData['rating'] = selectedData.apply(\n",
    "            lambda row: __weightedStars(row.stars, row.review_count),axis=1\n",
    "        )\n",
    "\n",
    "        selectedData['beer_wine'] = selectedData.apply(\n",
    "            lambda row: \n",
    "                __Alcohol[row.attributes.get('Alcohol', 'none')]==__Alcohol['beer_and_wine'], \n",
    "            axis=1\n",
    "        ).astype(int)\n",
    "\n",
    "        selectedData['full_bar'] = selectedData.apply(\n",
    "            lambda row: \n",
    "                __Alcohol[row.attributes.get('Alcohol', 'none')]==__Alcohol['full_bar'], \n",
    "            axis=1\n",
    "        ).astype(int)\n",
    "        \n",
    "        selectedData['price_range'] = selectedData.apply(\n",
    "            lambda row: row.attributes.get('Price Range', nan), axis=1\n",
    "        )\n",
    "\n",
    "        selectedData['attire'] = selectedData.apply(\n",
    "            lambda row: row.attributes.get('Attire', 'casual'), axis=1\n",
    "        ).astype('category').cat.codes\n",
    "\n",
    "        selectedData['takeout'] = selectedData.apply(\n",
    "            lambda row: row.attributes.get('Take-out', False), axis=1\n",
    "        ).astype(int)\n",
    "\n",
    "        selectedData['waiter_service'] = selectedData.apply(\n",
    "            lambda row: row.attributes.get('Waiter Service', False), axis=1\n",
    "        ).astype(int)\n",
    "\n",
    "        selectedData['outdoor_seating'] = selectedData.apply(\n",
    "            lambda row: \n",
    "                row.attributes.get('Outdoor Seating', False), axis=1\n",
    "        ).astype(int)\n",
    "        \n",
    "        selectedData.drop(['attributes', 'categories', 'hours', 'review_count', 'stars'],\n",
    "                          axis=1, inplace=True\n",
    "                         )\n",
    "        \n",
    "        selectedData.fillna(selectedData.mean())\n",
    "    \n",
    "        selectedData.to_csv(dataDirectory + outputName)\n",
    "        return selectedData"
   ]
  }
 ],
 "metadata": {
  "kernelspec": {
   "display_name": "Python 3",
   "language": "python",
   "name": "python3"
  },
  "language_info": {
   "codemirror_mode": {
    "name": "ipython",
    "version": 3
   },
   "file_extension": ".py",
   "mimetype": "text/x-python",
   "name": "python",
   "nbconvert_exporter": "python",
   "pygments_lexer": "ipython3",
   "version": "3.5.2"
  }
 },
 "nbformat": 4,
 "nbformat_minor": 0
}
