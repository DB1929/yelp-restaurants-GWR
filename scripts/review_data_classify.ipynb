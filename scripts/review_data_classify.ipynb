{
 "cells": [
  {
   "cell_type": "code",
   "execution_count": 1,
   "metadata": {
    "collapsed": true
   },
   "outputs": [],
   "source": [
    "import copy\n",
    "import pandas\n",
    "import numpy\n",
    "\n",
    "from sklearn import metrics\n",
    "from sklearn.pipeline import Pipeline\n",
    "from sklearn.feature_extraction.text import CountVectorizer, TfidfTransformer\n",
    "from sklearn.linear_model import SGDClassifier\n",
    "from sklearn.grid_search import GridSearchCV"
   ]
  },
  {
   "cell_type": "code",
   "execution_count": 2,
   "metadata": {
    "collapsed": false
   },
   "outputs": [],
   "source": [
    "class ReviewSentiment:\n",
    "    \n",
    "    _PIPELINE = Pipeline([('vectorizer', CountVectorizer()),\n",
    "                         ('tfidf', TfidfTransformer()),\n",
    "                         ('classifier', SGDClassifier(loss='hinge', \n",
    "                                                      penalty='l2',\n",
    "                                                      n_iter=5\n",
    "                                                     )\n",
    "                         )\n",
    "                        ])\n",
    "    \n",
    "    # Calculated from `subset = reviews.sample(frac=.01, random_state=0)` \n",
    "    # (see 'review_data_classify_tune' module)\n",
    "    _OPTIMAL_PARAMETERS = {'vectorizer__ngram_range': (1, 3), \n",
    "                           'classifier__alpha': 0.0001, \n",
    "                           'tfidf__use_idf': True\n",
    "                          }\n",
    "    \n",
    "    def __init__(self, data, label, text, pipeline=copy.deepcopy(_PIPELINE)):\n",
    "        self.data = data\n",
    "        self.label = label\n",
    "        self.text = text\n",
    "        self.pipeline = pipeline\n",
    "        \n",
    "    def tuneClassifier(self, tuningParameters):\n",
    "    \n",
    "        gridSearch = (GridSearchCV(self.pipeline, tuningParameters, cv=3, n_jobs=-1, error_score=numpy.nan)\n",
    "                      .fit(self.data[self.text], self.data[self.label]) \n",
    "                     )\n",
    "    \n",
    "        return (pandas.DataFrame.from_dict([(params, mean_score, (scores.std() * 2)) \n",
    "                                            for params, mean_score, scores in gridSearch.grid_scores_\n",
    "                                           ])\n",
    "                .rename(columns={0:'parameters', 1:'mean_score', 2:'confidence'})\n",
    "               )\n",
    "    \n",
    "    def predictSentiment(self, modelParameters):\n",
    "        (self.pipeline\n",
    "         .set_params(**modelParameters)\n",
    "         .fit(self.data[self.text], self.data[self.label])\n",
    "        )\n",
    "        self.data['sentiment'] = self.pipeline.predict(self.data[self.text])\n",
    "        return self.data\n",
    "    \n",
    "    def accuracy(self):\n",
    "        return numpy.mean(self.data['sentiment'] == self.data[self.label])\n",
    "    \n",
    "    def classificationReport(self):\n",
    "        return metrics.classification_report(self.data[self.label], self.data['sentiment'])\n",
    "    \n",
    "    def confusionMatrix(self):\n",
    "        return metrics.confusion_matrix(self.data[self.label], self.data['sentiment'])"
   ]
  }
 ],
 "metadata": {
  "kernelspec": {
   "display_name": "Python 3",
   "language": "python",
   "name": "python3"
  },
  "language_info": {
   "codemirror_mode": {
    "name": "ipython",
    "version": 3
   },
   "file_extension": ".py",
   "mimetype": "text/x-python",
   "name": "python",
   "nbconvert_exporter": "python",
   "pygments_lexer": "ipython3",
   "version": "3.5.2"
  }
 },
 "nbformat": 4,
 "nbformat_minor": 0
}
