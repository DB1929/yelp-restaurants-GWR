{
 "cells": [
  {
   "cell_type": "code",
   "execution_count": 39,
   "metadata": {
    "collapsed": false
   },
   "outputs": [],
   "source": [
    "import json \n",
    "import os.path\n",
    "from numpy import timedelta64\n",
    "from math import log\n",
    "import pandas\n",
    "\n",
    "import jupynbimp\n",
    "import restaurants_data_cleaning"
   ]
  },
  {
   "cell_type": "code",
   "execution_count": 40,
   "metadata": {
    "collapsed": true
   },
   "outputs": [],
   "source": [
    "def __weightedStars(stars, count):\n",
    "    # weight star rating by review count    \n",
    "    try:\n",
    "        count = int(count)\n",
    "    except ValueError:\n",
    "        return nan\n",
    "    \n",
    "    if not(1 <= stars <= 5):\n",
    "        return nan\n",
    "    else:\n",
    "        normalStars = stars - 3 # 'neutral' rating of 3 normalized to 0\n",
    "        return normalStars * log(count)"
   ]
  },
  {
   "cell_type": "code",
   "execution_count": 91,
   "metadata": {
    "collapsed": false
   },
   "outputs": [],
   "source": [
    "def getData(fromCache=True):\n",
    "    dataDirectory = '../data/yelp/'\n",
    "    outputName = 'restaurants_clean.csv'\n",
    "    \n",
    "    if fromCache & os.path.isfile(dataDirectory + outputName):\n",
    "        return pandas.read_csv(dataDirectory + outputName, header=0)\n",
    "    \n",
    "    else:\n",
    "        restaurants = restaurants_data_cleaning.getData(fromCache=fromCache)\n",
    "        \n",
    "        # read-in .json file as pandas dataframe\n",
    "        reviews = (pandas.DataFrame.from_dict([\n",
    "                    json.loads(data) for data in open(\n",
    "                        dataDirectory + 'yelp_academic_dataset_review.json', \n",
    "                        'r'\n",
    "                    )\n",
    "                ])\n",
    "        )\n",
    "        \n",
    "        # keep only reviews from selected restaurants\n",
    "        reviews = (reviews[reviews['business_id']\n",
    "                           .isin(restaurants['business_id'])\n",
    "                          ]\n",
    "                   .drop(['type', 'user_id', 'votes'], axis = 1)\n",
    "                  )\n",
    "\n",
    "        reviews['date'] = pandas.to_datetime(reviews['date'])\n",
    "\n",
    "        # calculate aggregated variables        \n",
    "        reviews = (reviews\n",
    "                   .groupby('business_id')\n",
    "                   .aggregate({'business_id':'count',\n",
    "                               'stars':'mean',\n",
    "                               'date': lambda g: g.max() - g.min()\n",
    "                              })\n",
    "                   .rename(columns={'business_id':'count',\n",
    "                                    'date':'review_span'\n",
    "                                   }\n",
    "                          )\n",
    "                  )\n",
    "        \n",
    "        reviews['review_span'] = (reviews['review_span']\n",
    "                                  .astype('timedelta64[D]')\n",
    "                                  .astype(int)\n",
    "                                 )\n",
    "        \n",
    "        reviews['rating'] = reviews.apply(\n",
    "            lambda row: __weightedStars(row['stars'], row['count']),\n",
    "            axis=1\n",
    "        )\n",
    "        \n",
    "        restaurants = (restaurants\n",
    "                       .set_index('business_id')\n",
    "                       .join(reviews, how='inner')\n",
    "                       .reset_index()\n",
    "                      )\n",
    "        \n",
    "        # fill NAs        \n",
    "        restaurants.fillna(restaurants.mean())       \n",
    "    \n",
    "        # cache results and return\n",
    "        restaurants.to_csv(dataDirectory + outputName)\n",
    "        return restaurants"
   ]
  }
 ],
 "metadata": {
  "kernelspec": {
   "display_name": "Python 3",
   "language": "python",
   "name": "python3"
  },
  "language_info": {
   "codemirror_mode": {
    "name": "ipython",
    "version": 3
   },
   "file_extension": ".py",
   "mimetype": "text/x-python",
   "name": "python",
   "nbconvert_exporter": "python",
   "pygments_lexer": "ipython3",
   "version": "3.5.2"
  }
 },
 "nbformat": 4,
 "nbformat_minor": 0
}
