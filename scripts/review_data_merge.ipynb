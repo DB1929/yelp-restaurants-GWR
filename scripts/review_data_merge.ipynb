{
 "cells": [
  {
   "cell_type": "code",
   "execution_count": 2,
   "metadata": {
    "collapsed": false
   },
   "outputs": [],
   "source": [
    "import json \n",
    "import os.path\n",
    "from numpy import timedelta64\n",
    "import pandas\n",
    "\n",
    "import jupynbimp\n",
    "import restaurants_data_cleaning"
   ]
  },
  {
   "cell_type": "code",
   "execution_count": 7,
   "metadata": {
    "collapsed": false
   },
   "outputs": [],
   "source": [
    "def getData(fromCache=True):\n",
    "    dataDirectory = '../data/yelp/'\n",
    "    outputName = 'restaurants_clean.csv'\n",
    "    \n",
    "    if fromCache & os.path.isfile(dataDirectory + outputName):\n",
    "        return pandas.read_csv(dataDirectory + outputName, header=0)\n",
    "    \n",
    "    else:\n",
    "        restaurants = restaurants_data_cleaning.getData(fromCache=fromCache)\n",
    "        \n",
    "        # read-in .json file as pandas dataframe\n",
    "        reviews = (pandas.DataFrame.from_dict([\n",
    "                    json.loads(data) for data in open(\n",
    "                        dataDirectory + 'yelp_academic_dataset_review.json', \n",
    "                        'r'\n",
    "                    )\n",
    "                ])\n",
    "        )\n",
    "        \n",
    "        # keep only reviews from selected restaurants\n",
    "        reviews = (reviews[reviews['business_id']\n",
    "                           .isin(restaurants['business_id'])\n",
    "                          ]\n",
    "                   .drop(['type', 'user_id', 'votes'], axis = 1)\n",
    "                  )\n",
    "\n",
    "        reviews['date'] = pandas.to_datetime(reviews['date'])\n",
    "\n",
    "        # calculate additional variables\n",
    "        reviewSpans = (reviews[['business_id', 'date']]\n",
    "                       .groupby('business_id')\n",
    "                       .aggregate(lambda g: \n",
    "                                  g['date'].max() - g['date'].min()\n",
    "                                 )\n",
    "                       .astype('timedelta64[D]')\n",
    "                       .astype(int)\n",
    "                       .rename(columns={'date':'review_span'})\n",
    "                      )\n",
    "        \n",
    "\n",
    "        restaurants = restaurants.set_index('business_id').join(reviewSpans).reset_index()\n",
    "        \n",
    "        # remove NAs        \n",
    "        restaurants.fillna(restaurants.mean())\n",
    "    \n",
    "        # cache results and return\n",
    "        restaurants.to_csv(dataDirectory + outputName)\n",
    "        return restaurants"
   ]
  }
 ],
 "metadata": {
  "kernelspec": {
   "display_name": "Python 3",
   "language": "python",
   "name": "python3"
  },
  "language_info": {
   "codemirror_mode": {
    "name": "ipython",
    "version": 3
   },
   "file_extension": ".py",
   "mimetype": "text/x-python",
   "name": "python",
   "nbconvert_exporter": "python",
   "pygments_lexer": "ipython3",
   "version": "3.5.2"
  }
 },
 "nbformat": 4,
 "nbformat_minor": 0
}
