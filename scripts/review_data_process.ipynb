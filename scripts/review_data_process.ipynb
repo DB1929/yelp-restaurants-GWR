{
 "cells": [
  {
   "cell_type": "code",
   "execution_count": 42,
   "metadata": {
    "collapsed": false
   },
   "outputs": [],
   "source": [
    "import pandas\n",
    "import os.path\n",
    "from math import log\n",
    "from numpy import mean, timedelta64\n",
    "\n",
    "import jupynbimp\n",
    "import review_data_getData \n",
    "import topic_dictionary\n",
    "from review_data_classify import ReviewSentiment\n",
    "from review_data_topics_extractor import TopicExtractor"
   ]
  },
  {
   "cell_type": "code",
   "execution_count": 30,
   "metadata": {
    "collapsed": true
   },
   "outputs": [],
   "source": [
    "__COL_NAME_GROUP_ID = 'business_id'\n",
    "__COL_NAME_RATING_DATE = 'date'\n",
    "__COL_NAME_DOCUMENT_TEXT = 'text'\n",
    "__COL_NAME_RATING_VALUE = 'stars'\n",
    "__RATING_VALUE_RANGE = [1, 5]\n",
    "__TOPIC_DICTIONARY = topic_dictionary.topicDictionary"
   ]
  },
  {
   "cell_type": "code",
   "execution_count": 50,
   "metadata": {
    "collapsed": true
   },
   "outputs": [],
   "source": [
    "def __calculateWeightedRating(ratingValue, ratingCount):\n",
    "    \n",
    "    # weight rating by log(ratingCount)    \n",
    "    \n",
    "    try:\n",
    "        ratingCount = int(ratingCount)\n",
    "    \n",
    "    except ValueError:\n",
    "        return nan\n",
    "    \n",
    "    if not(min(__RATING_VALUE_RANGE) <= ratingValue <= max(__RATING_VALUE_RANGE)):\n",
    "        return nan\n",
    "    \n",
    "    else:  \n",
    "        # 'neutral' rating normalized to 0\n",
    "        normalizedRating = ratingValue - mean(__RATING_VALUE_RANGE) \n",
    "        \n",
    "        return normalizedRating * log(ratingCount)"
   ]
  },
  {
   "cell_type": "code",
   "execution_count": 32,
   "metadata": {
    "collapsed": true
   },
   "outputs": [],
   "source": [
    "def __calculateSentiment(data):\n",
    "        \n",
    "        # calculate 'sentiment' of reviews (predicted star rating from review text)\n",
    "        # -see review_data_classify module for model fitting and tuning\n",
    "        # -fit the tuned model to the entire data and predict the star rating\n",
    "        \n",
    "        reviewSentiment = ReviewSentiment(data=data, \n",
    "                                          label=__COL_NAME_RATING_VALUE, \n",
    "                                          text=__COL_NAME_DOCUMENT_TEXT\n",
    "                                         )\n",
    "        \n",
    "        return reviewSentiment.predictSentiment(ReviewSentiment._optimalParameters)"
   ]
  },
  {
   "cell_type": "code",
   "execution_count": 33,
   "metadata": {
    "collapsed": false
   },
   "outputs": [],
   "source": [
    "def __makeTopicScorer(data):\n",
    "    \n",
    "    positiveReviewText = data[(data[__COL_NAME_RATING_VALUE]>3)][__COL_NAME_DOCUMENT_TEXT]\n",
    "    negativeReviewText = data[(data[__COL_NAME_RATING_VALUE]<3)][__COL_NAME_DOCUMENT_TEXT]\n",
    "       \n",
    "    positiveTopicExtractor = TopicExtractor(trainingDocuments=positiveReviewText, \n",
    "                                            topicDictionary=__TOPIC_DICTIONARY\n",
    "                                           )\n",
    "    negativeTopicExtractor = TopicExtractor(trainingDocuments=negativeReviewText, \n",
    "                                            topicDictionary=__TOPIC_DICTIONARY\n",
    "                                           )\n",
    "    \n",
    "    def scoreTopic(documents, topic):\n",
    "        \n",
    "        positiveScore = negativeScore = 0\n",
    "        \n",
    "        if topic in list(positiveTopicExtractor.ngramsByTopic.index.levels[0]):\n",
    "            positiveScore = positiveTopicExtractor.getTfIdfScore(documents=documents, topic=topic)\n",
    "            \n",
    "        if topic in list(negativeTopicExtractor.ngramsByTopic.index.levels[0]):\n",
    "            negativeScore = negativeTopicExtractor.getTfIdfScore(documents=documents, topic=topic)\n",
    "        \n",
    "        return (data['review_span'] * log(positiveScore - negativeScore + 1e4))**2\n",
    "    \n",
    "    \n",
    "    return scoreTopic"
   ]
  },
  {
   "cell_type": "code",
   "execution_count": 37,
   "metadata": {
    "collapsed": false
   },
   "outputs": [],
   "source": [
    "def __aggregateReviews(data):\n",
    "    \n",
    "    # topicExtractors must be trained before aggregation\n",
    "    # (seperate extractors are trained for positive and negative reviews)\n",
    "    topicScorer = __makeTopicScorer(data)\n",
    "    topics = __TOPIC_DICTIONARY.keys()\n",
    "    \n",
    "    data = (data\n",
    "            .groupby(__COL_NAME_GROUP_ID)\n",
    "            .aggregate({__COL_NAME_GROUP_ID: 'count',\n",
    "                        __COL_NAME_RATING_VALUE: 'mean',\n",
    "                        __COL_NAME_RATING_DATE: lambda dates: dates.max() - dates.min(), \n",
    "                        __COL_NAME_DOCUMENT_TEXT: lambda reviews: [(topic, topicScorer(reviews, topic)) \n",
    "                                                                   for topic in topics\n",
    "                                                                  ],\n",
    "                        'sentiment': 'mean',\n",
    "                       })\n",
    "            .rename(columns={__COL_NAME_GROUP_ID:'review_count',\n",
    "                             __COL_NAME_RATING_DATE:'review_span',\n",
    "                             __COL_NAME_DOCUMENT_TEXT:'topic_scores'\n",
    "                            }\n",
    "                   )\n",
    "           )\n",
    "    \n",
    "    ## clean up data types and columns\n",
    "    \n",
    "    # split topic scores into seperate columns \n",
    "    for i, topic in enumerate(topics):\n",
    "        data[topic] = data['topic_scores'].apply(lambda scores: scores[i][1])\n",
    "      \n",
    "    data.drop('topic_scores', axis=1, inplace=True)\n",
    "    \n",
    "    # store review_span as number of days (int)\n",
    "    data['review_span'] = (data['review_span']\n",
    "                           .astype('timedelta64[D]')\n",
    "                           .astype(int)\n",
    "                          )\n",
    "    \n",
    "    # normalize rating by review_count\n",
    "    data['rating'] = data.apply(lambda row: \n",
    "                                __calculateWeightedRating(row[__COL_NAME_RATING_VALUE], \n",
    "                                                          row['review_count']\n",
    "                                                         ),axis=1\n",
    "                               )\n",
    "    \n",
    "    return data"
   ]
  },
  {
   "cell_type": "code",
   "execution_count": 35,
   "metadata": {
    "collapsed": false
   },
   "outputs": [],
   "source": [
    "def getData(fromCache=True):\n",
    "    \n",
    "    dataDirectory = '../data/yelp/'\n",
    "    outputName = 'reviews_aggregated.csv'\n",
    "    \n",
    "    if fromCache & os.path.isfile(dataDirectory + outputName):\n",
    "        return pandas.read_csv(dataDirectory + outputName, header=0)\n",
    "    \n",
    "    else:\n",
    "    \n",
    "        data = __aggregateReviews(\n",
    "        \n",
    "            # sentiment must be calculated before aggregation\n",
    "            # (labels for classifier training come from individual reviews)\n",
    "            data=__calculateSentiment(\n",
    "            \n",
    "                # raw data from study area\n",
    "                data=review_data_getData.getReviews()\n",
    "            )\n",
    "        )\n",
    "\n",
    "        # cache results and return\n",
    "        data.to_csv(dataDirectory + outputName)\n",
    "    \n",
    "        return data"
   ]
  }
 ],
 "metadata": {
  "kernelspec": {
   "display_name": "Python 3",
   "language": "python",
   "name": "python3"
  },
  "language_info": {
   "codemirror_mode": {
    "name": "ipython",
    "version": 3
   },
   "file_extension": ".py",
   "mimetype": "text/x-python",
   "name": "python",
   "nbconvert_exporter": "python",
   "pygments_lexer": "ipython3",
   "version": "3.5.2"
  }
 },
 "nbformat": 4,
 "nbformat_minor": 0
}
