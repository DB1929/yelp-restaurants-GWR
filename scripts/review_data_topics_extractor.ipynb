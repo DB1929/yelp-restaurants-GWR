{
 "cells": [
  {
   "cell_type": "code",
   "execution_count": 1,
   "metadata": {
    "collapsed": false
   },
   "outputs": [],
   "source": [
    "import copy\n",
    "from pandas import Series, DataFrame\n",
    "from sklearn.feature_extraction.text import TfidfVectorizer, CountVectorizer"
   ]
  },
  {
   "cell_type": "code",
   "execution_count": 18,
   "metadata": {
    "collapsed": false
   },
   "outputs": [],
   "source": [
    "class TopicExtractor:\n",
    "    \n",
    "    def __init__(self, trainingDocuments, topicDictionary):\n",
    "        \n",
    "        # generate a tfidf matrix for the training documents\n",
    "        self.tfidfVectorizer = (TfidfVectorizer(token_pattern=\"[a-z']{2,}\", \n",
    "                                                stop_words='english', \n",
    "                                                ngram_range=(1, 2), \n",
    "                                                min_df=0.01, \n",
    "                                                max_df=0.99\n",
    "                                               )\n",
    "                               )\n",
    "    \n",
    "        fit = self.tfidfVectorizer.fit_transform(trainingDocuments)\n",
    "        \n",
    "        # store n-grams with associated weights and topics in dataframe\n",
    "        ngrams = Series(self.tfidfVectorizer.get_feature_names())\n",
    "        self.ngramTopics = DataFrame({'ngram': ngrams,\n",
    "                                      'idf': self.tfidfVectorizer.idf_,\n",
    "                                      'topic': ngrams.apply(lambda ngram: # adapted from Sven Marnach's post at \n",
    "                                                                          # https://stackoverflow.com/questions/8122079/python-how-to-check-a-string-for-substrings-from-a-list\n",
    "                                                            [key for key in topicDictionary.keys() \n",
    "                                                             if any(sub_ngram in topicDictionary[key]\n",
    "                                                                    for sub_ngram in ngram.split(' ')\n",
    "                                                                   )\n",
    "                                                            ]\n",
    "                                                           )\n",
    "                                })\n",
    "    \n",
    "        # organize n-grams by topic (split ngrams with multiple topics into seperate rows)\n",
    "        # adapted from Alexander's post at \n",
    "        # https://stackoverflow.com/questions/32468402/how-to-explode-a-list-inside-a-dataframe-cell-into-separate-rows\n",
    "        newRows = []\n",
    "        splitRows = self.ngramTopics.apply(lambda row: \n",
    "                                           [newRows.append([row['ngram'], row['idf'], topic]) \n",
    "                                            for topic in row['topic']\n",
    "                                           ], \n",
    "                                           axis=1\n",
    "                                          )\n",
    "    \n",
    "        self.ngramsByTopic = (DataFrame(newRows, columns=['ngram', 'idf', 'topic'])\n",
    "                              .sort_values(['topic', 'idf'], ascending=[True, False])\n",
    "                              .set_index(['topic', 'ngram'])\n",
    "                             )\n",
    "    \n",
    "    def getTfIdfScore(self, documents, topic):\n",
    "        \n",
    "        # provide a total, topic-speicific tfidf score of a set of documents\n",
    "        idfs = self.ngramsByTopic.loc[topic]\n",
    "        countVectorizer = CountVectorizer(vocabulary=idfs.index.values.tolist())\n",
    "        fit = countVectorizer.fit_transform(documents)\n",
    "        \n",
    "        return sum(idfs['idf'] * fit.toarray().sum(axis=0))"
   ]
  }
 ],
 "metadata": {
  "kernelspec": {
   "display_name": "Python 3",
   "language": "python",
   "name": "python3"
  },
  "language_info": {
   "codemirror_mode": {
    "name": "ipython",
    "version": 3
   },
   "file_extension": ".py",
   "mimetype": "text/x-python",
   "name": "python",
   "nbconvert_exporter": "python",
   "pygments_lexer": "ipython3",
   "version": "3.5.2"
  }
 },
 "nbformat": 4,
 "nbformat_minor": 0
}
